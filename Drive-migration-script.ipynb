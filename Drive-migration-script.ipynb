# Get root folder ID
from googleapiclient.discovery import build
from google.colab import auth

auth.authenticate_user()
service = build('drive', 'v3', cache_discovery=False)

root_folder = service.files().get(fileId='root').execute()
root_folder_id = root_folder['id']

# Check ownership, copy, rename, and share files
username_list = ['username', 'username2'] # change to your username
domain_list = ['example.com', 'another-example.com'] # change to your email domain

def is_owned_by_user_and_domain(file, username_list, domain_list):
    for permission in file['permissions']:
        email = permission['emailAddress']
        if permission['role'] == 'owner' and email.split('@')[0] in username_list and email.split('@')[1] in domain_list:
            return True, email
    return False, None

# Create or find the "migration-files-old" folder
folder_name = "migration-files-old"
folder_query = f"name='{folder_name}' and mimeType='application/vnd.google-apps.folder' and trashed = false"
folder_results = service.files().list(q=folder_query, fields="nextPageToken, files(id)").execute()
folders = folder_results.get('files', [])

if not folders:
    # Create the folder if it doesn't exist
    folder_metadata = {
        'name': folder_name,
        'mimeType': 'application/vnd.google-apps.folder'
    }
    folder = service.files().create(body=folder_metadata, fields='id').execute()
    folder_id = folder['id']
else:
    # Use the existing folder
    folder_id = folders[0]['id']

def process_drive_files(service, query, username_list, domain_list, copied_files, folder_id, parent_id=None):
    results = service.files().list(q=query, fields="nextPageToken, files(id, name, mimeType, permissions)").execute()
    items = results.get('files', [])

    for item in items:
        item_id = item['id']
        item_name = item['name']
        item_type = item['mimeType']
        is_owned, owner_email = is_owned_by_user_and_domain(item, username_list, domain_list)

        if item_type == 'application/vnd.google-apps.folder':
            # Process files inside this folder
            folder_query = f"'{item_id}' in parents and trashed = false"
            process_drive_files(service, folder_query, username_list, domain_list, copied_files, folder_id, item_id)
        elif is_owned:
            # Copy the file
            copied_file = service.files().copy(fileId=item_id, fields='id, name').execute()
            copied_file_id = copied_file['id']
            copied_file_name = copied_file['name']

            # Remove "Copy of " from the file name
            if copied_file_name.startswith('Copy of '):
                new_file_name = copied_file_name[8:]
                service.files().update(fileId=copied_file_id, body={'name': new_file_name}).execute()

            # Share the copied file with the same users as the original file except the owner
            for permission in item['permissions']:
                if permission['type'] == 'user' and permission['emailAddress'] != owner_email:
                    user_email = permission['emailAddress']
                    role = permission['role']
                    new_permission = {
                        'type': 'user',
                        'role': role,
                        'emailAddress': user_email
                    }
                    service.permissions().create(fileId=copied_file_id, body=new_permission).execute()

            # Add the original file and owner to the copied_files list
            copied_files.append((item_name, owner_email))

            # Create a shortcut to the original file in the "migration-files-old" folder
            shortcut_metadata = {
                'name': item_name,
                'mimeType': 'application/vnd.google-apps.shortcut',
                'shortcutDetails': {
                    'targetId': item_id
                },
                'parents': [folder_id]
            }
            service.files().create(body=shortcut_metadata, fields='id').execute()

# Query Google Drive for files
my_drive_query = f"'{root_folder_id}' in parents and trashed = false"
shared_files_query = "sharedWithMe=true and trashed = false"

copied_files = []

# Process files in My Drive and Shared With Me
process_drive_files(service, my_drive_query, username_list, domain_list, copied_files, folder_id)
process_drive_files(service, shared_files_query, username_list, domain_list, copied_files, folder_id)

# Print the copied files and their original owners
print("Copied files and their original owners:")
for file_name, owner_email in copied_files:
  print(f"{file_name}: {owner_email}")
